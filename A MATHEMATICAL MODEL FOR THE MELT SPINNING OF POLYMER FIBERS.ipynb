{
 "cells": [
  {
   "cell_type": "code",
   "execution_count": 11,
   "id": "5afa96fd",
   "metadata": {
    "scrolled": true
   },
   "outputs": [
    {
     "name": "stdout",
     "output_type": "stream",
     "text": [
      "0.994\n",
      "0.014577259475218656\n",
      "22.72946666666667\n",
      "[5.50962824 1.19415348]\n",
      "With gravity  5.509628240187419\n",
      "\n",
      "without gravity  1.1941534832131528\n"
     ]
    },
    {
     "data": {
      "image/png": "[encoded data removed]",
      "text/plain": [
       "<Figure size 432x288 with 1 Axes>"
      ]
     },
     "metadata": {
      "needs_background": "light"
     },
     "output_type": "display_data"
    }
   ],
   "source": [
    "import numpy as np\n",
    "from scipy.integrate import odeint\n",
    "import matplotlib.pyplot as plt\n",
    "from scipy.optimize import fsolve\n",
    " \n",
    "w = 1\n",
    "r = 1420\n",
    "L = 7\n",
    "n = 10000\n",
    "R_e = (r*L*w)/n\n",
    "print(R_e)\n",
    "\n",
    "F_r = w**2 / (9.8*L)\n",
    "print(F_r)\n",
    "\n",
    "G = R_e/(3*F_r)\n",
    "print(G)\n",
    "\n",
    "def f1(w_ini, z):\n",
    "    w, y = w_ini   \n",
    "    dwdz = y\n",
    "    dydz = ((((R_e* w * y )/ 3)) + (y ** 2 / w)) - G\n",
    "    return dwdz, dydz\n",
    "\n",
    "def f2(w_ini, z):\n",
    "    w, y = w_ini   \n",
    "    dwdz = y\n",
    "    dydz = ((((R_e* w * y) / 3)) + (y ** 2 / w))\n",
    "    return dwdz, dydz\n",
    "\n",
    "z = np.linspace(0,1,500)\n",
    "y_target = 5.00\n",
    "\n",
    "def y_shoot(y):\n",
    "    w_ini_f1 = [w, y[0]]\n",
    "    w_ini_f2 = [w, y[1]]\n",
    "    odesolver_f1 = odeint(f1, w_ini_f1, z)\n",
    "    odesolver_f2 = odeint(f2, w_ini_f2, z)\n",
    "    return [odesolver_f1[:, 0][-1] - y_target, odesolver_f2[:, 0][-1] - y_target]\n",
    "\n",
    "y = fsolve(y_shoot, [5.7,1.5])\n",
    "print(y)\n",
    "\n",
    "w_ini_f1 = [w, y[0]]\n",
    "w_ini_f2 = [w, y[1]]\n",
    "\n",
    "odesolver_f1 = odeint(f1, w_ini_f1, z) ## outpu : array[w,y]\n",
    "odesolver_f2 = odeint(f2, w_ini_f2, z)\n",
    "print(\"With gravity \",y[0])\n",
    "print(\"\\nwithout gravity \",y[1])\n",
    "plt.plot(z, odesolver_f1[:, 0], '-', markevery=10, label='f1 = with gravity')\n",
    "plt.plot(z, odesolver_f2[:, 0], '.', markevery=10, label='f2 = without gravity')\n",
    "plt.legend()\n",
    "plt.grid()\n",
    "plt.xlabel('z')\n",
    "plt.ylabel('w')\n",
    "\n",
    "plt.show()\n"
   ]
  },
  {
   "cell_type": "code",
   "execution_count": null,
   "id": "2eab5ed8",
   "metadata": {},
   "outputs": [],
   "source": []
  },
  {
   "cell_type": "code",
   "execution_count": null,
   "id": "c3f8c3fb",
   "metadata": {},
   "outputs": [],
   "source": []
  }
 ],
 "metadata": {
  "kernelspec": {
   "display_name": "Python 3 (ipykernel)",
   "language": "python",
   "name": "python3"
  },
  "language_info": {
   "codemirror_mode": {
    "name": "ipython",
    "version": 3
   },
   "file_extension": ".py",
   "mimetype": "text/x-python",
   "name": "python",
   "nbconvert_exporter": "python",
   "pygments_lexer": "ipython3",
   "version": "3.9.7"
  }
 },
 "nbformat": 4,
 "nbformat_minor": 5
}
